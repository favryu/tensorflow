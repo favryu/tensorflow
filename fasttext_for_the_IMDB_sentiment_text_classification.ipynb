{
  "nbformat": 4,
  "nbformat_minor": 0,
  "metadata": {
    "colab": {
      "name": "fasttext for the IMDB sentiment text classification.ipynb",
      "version": "0.3.2",
      "provenance": [],
      "include_colab_link": true
    },
    "kernelspec": {
      "name": "python3",
      "display_name": "Python 3"
    },
    "accelerator": "GPU"
  },
  "cells": [
    {
      "cell_type": "markdown",
      "metadata": {
        "id": "view-in-github",
        "colab_type": "text"
      },
      "source": [
        "<a href=\"https://colab.research.google.com/github/favryu/tensorflow/blob/master/fasttext_for_the_IMDB_sentiment_text_classification.ipynb\" target=\"_parent\"><img src=\"https://colab.research.google.com/assets/colab-badge.svg\" alt=\"Open In Colab\"/></a>"
      ]
    },
    {
      "metadata": {
        "id": "ze0Xxu-p_a-X",
        "colab_type": "text"
      },
      "cell_type": "markdown",
      "source": [
        "This example demonstrates the use of fasttext for text classification\n",
        "Based on Joulin et al's paper:\n",
        "Bags of Tricks for Efficient Text Classification\n",
        "https://arxiv.org/abs/1607.01759\n",
        "Results on IMDB datasets with uni and bi-gram embeddings:\n",
        "    Uni-gram: 0.8813 test accuracy after 5 epochs. 8s/epoch on i7 cpu.\n",
        "    Bi-gram : 0.9056 test accuracy after 5 epochs. 2s/epoch on GTx 980M gpu."
      ]
    },
    {
      "metadata": {
        "id": "BmpS47Gh_fq_",
        "colab_type": "code",
        "colab": {
          "base_uri": "https://localhost:8080/",
          "height": 35
        },
        "outputId": "6daf69cf-f5cf-4b09-b4a3-0dad9b5e5749"
      },
      "cell_type": "code",
      "source": [
        "from __future__ import print_function\n",
        "import numpy as np\n",
        "\n",
        "from keras.preprocessing import sequence\n",
        "from keras.models import Sequential\n",
        "from keras.layers import Dense\n",
        "from keras.layers import Embedding\n",
        "from keras.layers import GlobalAveragePooling1D\n",
        "from keras.datasets import imdb"
      ],
      "execution_count": 2,
      "outputs": [
        {
          "output_type": "stream",
          "text": [
            "Using TensorFlow backend.\n"
          ],
          "name": "stderr"
        }
      ]
    },
    {
      "metadata": {
        "id": "tVj-KpNm_t4H",
        "colab_type": "code",
        "colab": {}
      },
      "cell_type": "code",
      "source": [
        "def create_ngram_set(input_list, ngram_value=2):\n",
        "    \"\"\"\n",
        "    Extract a set of n-grams from a list of integers.\n",
        "    >>> create_ngram_set([1, 4, 9, 4, 1, 4], ngram_value=2)\n",
        "    {(4, 9), (4, 1), (1, 4), (9, 4)}\n",
        "    >>> create_ngram_set([1, 4, 9, 4, 1, 4], ngram_value=3)\n",
        "    [(1, 4, 9), (4, 9, 4), (9, 4, 1), (4, 1, 4)]\n",
        "    \"\"\"\n",
        "    return set(zip(*[input_list[i:] for i in range(ngram_value)]))"
      ],
      "execution_count": 0,
      "outputs": []
    },
    {
      "metadata": {
        "id": "UCxEsMG7_z81",
        "colab_type": "code",
        "colab": {
          "base_uri": "https://localhost:8080/",
          "height": 35
        },
        "outputId": "2b187b2f-387f-4f2d-9e77-aa5fa0558b2b"
      },
      "cell_type": "code",
      "source": [
        "create_ngram_set([1, 4, 9, 4, 1, 4], ngram_value=2)\n",
        "#create_ngram_set([1, 4, 9, 4, 1, 4], ngram_value=3)"
      ],
      "execution_count": 4,
      "outputs": [
        {
          "output_type": "execute_result",
          "data": {
            "text/plain": [
              "{(1, 4), (4, 1), (4, 9), (9, 4)}"
            ]
          },
          "metadata": {
            "tags": []
          },
          "execution_count": 4
        }
      ]
    },
    {
      "metadata": {
        "id": "MSVIRUe-ADUN",
        "colab_type": "code",
        "colab": {}
      },
      "cell_type": "code",
      "source": [
        "def add_ngram(sequences, token_indice, ngram_range=2):\n",
        "    \"\"\"\n",
        "    Augment the input list of list (sequences) by appending n-grams values.\n",
        "    Example: adding bi-gram\n",
        "    >>> sequences = [[1, 3, 4, 5], [1, 3, 7, 9, 2]]\n",
        "    >>> token_indice = {(1, 3): 1337, (9, 2): 42, (4, 5): 2017}\n",
        "    >>> add_ngram(sequences, token_indice, ngram_range=2)\n",
        "    [[1, 3, 4, 5, 1337, 2017], [1, 3, 7, 9, 2, 1337, 42]]\n",
        "    Example: adding tri-gram\n",
        "    >>> sequences = [[1, 3, 4, 5], [1, 3, 7, 9, 2]]\n",
        "    >>> token_indice = {(1, 3): 1337, (9, 2): 42, (4, 5): 2017, (7, 9, 2): 2018}\n",
        "    >>> add_ngram(sequences, token_indice, ngram_range=3)\n",
        "    [[1, 3, 4, 5, 1337, 2017], [1, 3, 7, 9, 2, 1337, 42, 2018]]\n",
        "    \"\"\"\n",
        "    new_sequences = []\n",
        "    for input_list in sequences:\n",
        "        new_list = input_list[:]\n",
        "        for ngram_value in range(2, ngram_range + 1):\n",
        "            for i in range(len(new_list) - ngram_value + 1):\n",
        "                ngram = tuple(new_list[i:i + ngram_value])\n",
        "                if ngram in token_indice:\n",
        "                    new_list.append(token_indice[ngram])\n",
        "        new_sequences.append(new_list)\n",
        "\n",
        "    return new_sequences"
      ],
      "execution_count": 0,
      "outputs": []
    },
    {
      "metadata": {
        "id": "xHv66pIxAuA4",
        "colab_type": "code",
        "colab": {}
      },
      "cell_type": "code",
      "source": [
        "# Set parameters:\n",
        "# ngram_range = 2 will add bi-grams features\n",
        "ngram_range = 2\n",
        "max_features = 20000\n",
        "maxlen = 400\n",
        "batch_size = 32\n",
        "embedding_dims = 50\n",
        "epochs = 5"
      ],
      "execution_count": 0,
      "outputs": []
    },
    {
      "metadata": {
        "id": "cyaJeQ8sBAgu",
        "colab_type": "code",
        "colab": {
          "base_uri": "https://localhost:8080/",
          "height": 139
        },
        "outputId": "7471b6bf-725a-476d-be31-e774b8696352"
      },
      "cell_type": "code",
      "source": [
        "print('Loading data...')\n",
        "(x_train, y_train), (x_test, y_test) = imdb.load_data(num_words=max_features)\n",
        "print(len(x_train), 'train sequences')\n",
        "print(len(x_test), 'test sequences')\n",
        "print('Average train sequence length: {}'.format(\n",
        "    np.mean(list(map(len, x_train)), dtype=int)))\n",
        "print('Average test sequence length: {}'.format(\n",
        "    np.mean(list(map(len, x_test)), dtype=int)))"
      ],
      "execution_count": 7,
      "outputs": [
        {
          "output_type": "stream",
          "text": [
            "Loading data...\n",
            "Downloading data from https://s3.amazonaws.com/text-datasets/imdb.npz\n",
            "17465344/17464789 [==============================] - 0s 0us/step\n",
            "25000 train sequences\n",
            "25000 test sequences\n",
            "Average train sequence length: 238\n",
            "Average test sequence length: 230\n"
          ],
          "name": "stdout"
        }
      ]
    },
    {
      "metadata": {
        "id": "iPqMxVLJBQkF",
        "colab_type": "code",
        "colab": {
          "base_uri": "https://localhost:8080/",
          "height": 69
        },
        "outputId": "e49d9ea2-0f78-4c90-f8c8-db748fd0a790"
      },
      "cell_type": "code",
      "source": [
        "if ngram_range > 1:\n",
        "    print('Adding {}-gram features'.format(ngram_range))\n",
        "    # Create set of unique n-gram from the training set.\n",
        "    ngram_set = set()\n",
        "    for input_list in x_train:\n",
        "        for i in range(2, ngram_range + 1):\n",
        "            set_of_ngram = create_ngram_set(input_list, ngram_value=i)\n",
        "            ngram_set.update(set_of_ngram)\n",
        "\n",
        "    # Dictionary mapping n-gram token to a unique integer.\n",
        "    # Integer values are greater than max_features in order\n",
        "    # to avoid collision with existing features.\n",
        "    start_index = max_features + 1\n",
        "    token_indice = {v: k + start_index for k, v in enumerate(ngram_set)}\n",
        "    indice_token = {token_indice[k]: k for k in token_indice}\n",
        "\n",
        "    # max_features is the highest integer that could be found in the dataset.\n",
        "    max_features = np.max(list(indice_token.keys())) + 1\n",
        "\n",
        "    # Augmenting x_train and x_test with n-grams features\n",
        "    x_train = add_ngram(x_train, token_indice, ngram_range)\n",
        "    x_test = add_ngram(x_test, token_indice, ngram_range)\n",
        "    print('Average train sequence length: {}'.format(\n",
        "        np.mean(list(map(len, x_train)), dtype=int)))\n",
        "    print('Average test sequence length: {}'.format(\n",
        "        np.mean(list(map(len, x_test)), dtype=int)))"
      ],
      "execution_count": 8,
      "outputs": [
        {
          "output_type": "stream",
          "text": [
            "Adding 2-gram features\n",
            "Average train sequence length: 476\n",
            "Average test sequence length: 428\n"
          ],
          "name": "stdout"
        }
      ]
    },
    {
      "metadata": {
        "id": "9KemGx9tBm0H",
        "colab_type": "code",
        "colab": {
          "base_uri": "https://localhost:8080/",
          "height": 69
        },
        "outputId": "dcc63dfc-f56c-4763-9816-24f05e9e38eb"
      },
      "cell_type": "code",
      "source": [
        "print('Pad sequences (samples x time)')\n",
        "x_train = sequence.pad_sequences(x_train, maxlen=maxlen)\n",
        "x_test = sequence.pad_sequences(x_test, maxlen=maxlen)\n",
        "print('x_train shape:', x_train.shape)\n",
        "print('x_test shape:', x_test.shape)"
      ],
      "execution_count": 9,
      "outputs": [
        {
          "output_type": "stream",
          "text": [
            "Pad sequences (samples x time)\n",
            "x_train shape: (25000, 400)\n",
            "x_test shape: (25000, 400)\n"
          ],
          "name": "stdout"
        }
      ]
    },
    {
      "metadata": {
        "id": "AuncneQEBt6I",
        "colab_type": "code",
        "colab": {
          "base_uri": "https://localhost:8080/",
          "height": 35
        },
        "outputId": "c3afcd5e-7964-4fc9-fe38-13c7fa3de1bd"
      },
      "cell_type": "code",
      "source": [
        "print('Build model...')\n",
        "model = Sequential()\n",
        "\n",
        "# we start off with an efficient embedding layer which maps\n",
        "# our vocab indices into embedding_dims dimensions\n",
        "model.add(Embedding(max_features,\n",
        "                    embedding_dims,\n",
        "                    input_length=maxlen))\n",
        "\n",
        "# we add a GlobalAveragePooling1D, which will average the embeddings\n",
        "# of all words in the document\n",
        "model.add(GlobalAveragePooling1D())\n",
        "\n",
        "# We project onto a single unit output layer, and squash it with a sigmoid:\n",
        "model.add(Dense(1, activation='sigmoid'))\n",
        "\n",
        "model.compile(loss='binary_crossentropy',\n",
        "              optimizer='adam',\n",
        "              metrics=['accuracy'])"
      ],
      "execution_count": 10,
      "outputs": [
        {
          "output_type": "stream",
          "text": [
            "Build model...\n"
          ],
          "name": "stdout"
        }
      ]
    },
    {
      "metadata": {
        "id": "Te4fMHBHB3sm",
        "colab_type": "code",
        "colab": {
          "base_uri": "https://localhost:8080/",
          "height": 399
        },
        "outputId": "b6b5088c-9c75-42fe-ca91-c636a35b2dd3"
      },
      "cell_type": "code",
      "source": [
        "model.fit(x_train, y_train,\n",
        "          batch_size=batch_size,\n",
        "          epochs=10,\n",
        "          validation_data=(x_test, y_test))"
      ],
      "execution_count": 12,
      "outputs": [
        {
          "output_type": "stream",
          "text": [
            "Train on 25000 samples, validate on 25000 samples\n",
            "Epoch 1/10\n",
            "25000/25000 [==============================] - 56s 2ms/step - loss: 0.0255 - acc: 0.9979 - val_loss: 0.2352 - val_acc: 0.9042\n",
            "Epoch 2/10\n",
            "25000/25000 [==============================] - 56s 2ms/step - loss: 0.0154 - acc: 0.9988 - val_loss: 0.2350 - val_acc: 0.9057\n",
            "Epoch 3/10\n",
            "25000/25000 [==============================] - 56s 2ms/step - loss: 0.0095 - acc: 0.9995 - val_loss: 0.2374 - val_acc: 0.9074\n",
            "Epoch 4/10\n",
            "25000/25000 [==============================] - 56s 2ms/step - loss: 0.0060 - acc: 0.9996 - val_loss: 0.2431 - val_acc: 0.9066\n",
            "Epoch 5/10\n",
            "25000/25000 [==============================] - 56s 2ms/step - loss: 0.0039 - acc: 0.9999 - val_loss: 0.2467 - val_acc: 0.9066\n",
            "Epoch 6/10\n",
            "25000/25000 [==============================] - 56s 2ms/step - loss: 0.0026 - acc: 0.9999 - val_loss: 0.2525 - val_acc: 0.9071\n",
            "Epoch 7/10\n",
            "25000/25000 [==============================] - 56s 2ms/step - loss: 0.0017 - acc: 0.9999 - val_loss: 0.2590 - val_acc: 0.9070\n",
            "Epoch 8/10\n",
            "25000/25000 [==============================] - 56s 2ms/step - loss: 0.0012 - acc: 1.0000 - val_loss: 0.2661 - val_acc: 0.9051\n",
            "Epoch 9/10\n",
            "25000/25000 [==============================] - 56s 2ms/step - loss: 8.1379e-04 - acc: 1.0000 - val_loss: 0.2757 - val_acc: 0.9038\n",
            "Epoch 10/10\n",
            "25000/25000 [==============================] - 56s 2ms/step - loss: 5.6252e-04 - acc: 1.0000 - val_loss: 0.2940 - val_acc: 0.8998\n"
          ],
          "name": "stdout"
        },
        {
          "output_type": "execute_result",
          "data": {
            "text/plain": [
              "<keras.callbacks.History at 0x7f58e6dfaa58>"
            ]
          },
          "metadata": {
            "tags": []
          },
          "execution_count": 12
        }
      ]
    },
    {
      "metadata": {
        "id": "SovFzaN1Cok4",
        "colab_type": "code",
        "colab": {}
      },
      "cell_type": "code",
      "source": [
        ""
      ],
      "execution_count": 0,
      "outputs": []
    }
  ]
}